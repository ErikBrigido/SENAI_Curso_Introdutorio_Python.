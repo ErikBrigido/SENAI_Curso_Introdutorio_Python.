{
  "nbformat": 4,
  "nbformat_minor": 0,
  "metadata": {
    "colab": {
      "provenance": [],
      "toc_visible": true,
      "authorship_tag": "ABX9TyPJhVl4jn/4VLcs4FXw90+O",
      "include_colab_link": true
    },
    "kernelspec": {
      "name": "python3",
      "display_name": "Python 3"
    },
    "language_info": {
      "name": "python"
    }
  },
  "cells": [
    {
      "cell_type": "markdown",
      "metadata": {
        "id": "view-in-github",
        "colab_type": "text"
      },
      "source": [
        "<a href=\"https://colab.research.google.com/github/ErikBrigido/SENAI_Curso_Introdutorio_Python./blob/main/Aula_10_%C3%A1_14.ipynb\" target=\"_parent\"><img src=\"https://colab.research.google.com/assets/colab-badge.svg\" alt=\"Open In Colab\"/></a>"
      ]
    },
    {
      "cell_type": "code",
      "source": [
        "frutas_total = int(input(\"Digite o total de frutas :\"))\n",
        "produtos = {}\n",
        "\n",
        "for i in range (frutas_total):\n",
        "    nome_produto = input('Digite o nome do produto ')\n",
        "    preco_produto = float(input('Digite o preço do produto '))\n",
        "    produtos[nome_produto] = preco_produto\n",
        "print ('Lista de produtos:')\n",
        "\n",
        "for produto, preco in produtos.items():\n",
        "    print(f'{produto}:R${preco: .2f}')"
      ],
      "metadata": {
        "colab": {
          "base_uri": "https://localhost:8080/"
        },
        "id": "KWOv549yQU7u",
        "outputId": "82b454dd-5fd8-4ec5-979d-51f12f244046"
      },
      "execution_count": 7,
      "outputs": [
        {
          "output_type": "stream",
          "name": "stdout",
          "text": [
            "Digite o total de frutas :5\n",
            "Digite o nome do produto 20\n",
            "Digite o preço do produto 20\n",
            "Digite o nome do produto pera\n",
            "Digite o preço do produto 6\n",
            "Digite o nome do produto eu\n",
            "Digite o preço do produto 30\n",
            "Digite o nome do produto ela\n",
            "Digite o preço do produto 50\n",
            "Digite o nome do produto tu\n",
            "Digite o preço do produto 60\n",
            "Lista de produtos:\n",
            "20:R$ 20.00\n",
            "pera:R$ 6.00\n",
            "eu:R$ 30.00\n",
            "ela:R$ 50.00\n",
            "tu:R$ 60.00\n"
          ]
        }
      ]
    },
    {
      "cell_type": "code",
      "source": [],
      "metadata": {
        "id": "wSbF_bdGZsZF"
      },
      "execution_count": null,
      "outputs": []
    },
    {
      "cell_type": "code",
      "source": [
        "import csv\n",
        "\n",
        "frutas_total = int(input(\"Digite o total de frutas: \"))\n",
        "produtos = {}\n",
        "\n",
        "for i in range(frutas_total):\n",
        "    nome_produto = input('Digite o nome do produto: ')\n",
        "    preco_produto = float(input('Digite o preço do produto: '))\n",
        "    produtos[nome_produto] = preco_produto\n",
        "\n",
        "print('Lista de produtos:')\n",
        "for produto, preco in produtos.items():\n",
        "    print(f'{produto}: R${preco:.2f}')\n",
        "\n",
        "# Escrever no arquivo CSV\n",
        "nome_arquivo = 'teste.csv'\n",
        "\n",
        "with open(nome_arquivo, 'w', newline='') as arquivo_csv:\n",
        "    escritor_csv = csv.writer(arquivo_csv)\n",
        "    escritor_csv.writerow(['Produto', 'Preço'])\n",
        "\n",
        "    for produto, preco in produtos.items():\n",
        "        escritor_csv.writerow([produto, preco])\n",
        "\n",
        "print(f'Os produtos foram salvos em \"{nome_arquivo}\" com sucesso!')"
      ],
      "metadata": {
        "colab": {
          "base_uri": "https://localhost:8080/"
        },
        "id": "foQM0ka7Z8bc",
        "outputId": "cde0456e-86b6-4c17-b26a-0855461f33ee"
      },
      "execution_count": 9,
      "outputs": [
        {
          "output_type": "stream",
          "name": "stdout",
          "text": [
            "Digite o total de frutas: 2\n",
            "Digite o nome do produto: pera\n",
            "Digite o preço do produto: 5\n",
            "Digite o nome do produto: banana\n",
            "Digite o preço do produto: 5\n",
            "Lista de produtos:\n",
            "pera: R$5.00\n",
            "banana: R$5.00\n",
            "Os produtos foram salvos em \"teste.csv\" com sucesso!\n"
          ]
        }
      ]
    },
    {
      "cell_type": "code",
      "source": [
        "#1 - Crie uma função lambda que retorne o dobro de um número.\n",
        "\n",
        "dobro = lambda x: x * 2\n",
        "\n",
        "print(dobro(2))"
      ],
      "metadata": {
        "colab": {
          "base_uri": "https://localhost:8080/"
        },
        "id": "XOP4EYdyni5z",
        "outputId": "7ad7fc56-95cc-4e03-e2ae-1fcc2ee252a8"
      },
      "execution_count": 13,
      "outputs": [
        {
          "output_type": "stream",
          "name": "stdout",
          "text": [
            "4\n"
          ]
        }
      ]
    },
    {
      "cell_type": "code",
      "source": [
        "#2 - Crie uma função lambda que calcule a soma de dois números.\n",
        "\n",
        "soma = lambda x, y : x + y\n",
        "\n",
        "print(soma(2,5))"
      ],
      "metadata": {
        "colab": {
          "base_uri": "https://localhost:8080/"
        },
        "id": "WH5-f2lUrl2z",
        "outputId": "36a4a74a-ac79-45d5-93a4-f14919ddd073"
      },
      "execution_count": 15,
      "outputs": [
        {
          "output_type": "stream",
          "name": "stdout",
          "text": [
            "7\n"
          ]
        }
      ]
    },
    {
      "cell_type": "code",
      "source": [
        "#3 - Crie uma função lambda que verifique se um número é par.\n",
        "\n",
        "verificacao = lambda x: x % 2 == 0\n",
        "\n",
        "verificacao (3)\n",
        "\n"
      ],
      "metadata": {
        "colab": {
          "base_uri": "https://localhost:8080/"
        },
        "id": "8c4_Qn54rvAC",
        "outputId": "959baa13-03b6-418a-ed8c-df3ff9303d5e"
      },
      "execution_count": 40,
      "outputs": [
        {
          "output_type": "execute_result",
          "data": {
            "text/plain": [
              "False"
            ]
          },
          "metadata": {},
          "execution_count": 40
        }
      ]
    },
    {
      "cell_type": "code",
      "source": [
        "#4 - Crie uma função lambda que converta uma string em maiúsculas.\n",
        "\n",
        "maiuscula = lambda x: x.upper()\n",
        "\n",
        "print(maiuscula(\"oi\"))"
      ],
      "metadata": {
        "colab": {
          "base_uri": "https://localhost:8080/"
        },
        "id": "sD8qq4qIvSY6",
        "outputId": "f4535ab4-d0d2-4a28-d6b6-1f31119fd6d0"
      },
      "execution_count": 37,
      "outputs": [
        {
          "output_type": "stream",
          "name": "stdout",
          "text": [
            "OI\n"
          ]
        }
      ]
    },
    {
      "cell_type": "code",
      "source": [
        "#5 - Crie uma função lambda que calcule o produto de três números.\n",
        "\n",
        "produto = lambda x, y, z: x * y * z\n",
        "\n",
        "print(produto(2,4,5))\n"
      ],
      "metadata": {
        "colab": {
          "base_uri": "https://localhost:8080/"
        },
        "id": "WE5ObPuVv575",
        "outputId": "176a88fd-0f4c-46a0-98b2-939875931129"
      },
      "execution_count": 42,
      "outputs": [
        {
          "output_type": "stream",
          "name": "stdout",
          "text": [
            "40\n"
          ]
        }
      ]
    },
    {
      "cell_type": "code",
      "source": [
        "## Teste ##\n",
        "\n",
        "a = int(input('Digite'))\n",
        "b = int(input('Digite'))\n",
        "\n",
        "produto = lambda x, y: x * y\n",
        "\n",
        "print(produto(a,b))"
      ],
      "metadata": {
        "colab": {
          "base_uri": "https://localhost:8080/"
        },
        "id": "nnJ43avDyR5C",
        "outputId": "820f7b16-9e95-4a18-82dd-e070ab1f6ab1"
      },
      "execution_count": 49,
      "outputs": [
        {
          "output_type": "stream",
          "name": "stdout",
          "text": [
            "Digite5\n",
            "Digite3\n",
            "15\n"
          ]
        }
      ]
    },
    {
      "cell_type": "code",
      "source": [
        "\n",
        "verificacao = lambda x: x % 2 == 0\n",
        "verificacao(a)\n",
        "\n",
        "if verificacao(a) is True:\n",
        "  print('O numero é Par!')\n",
        "else:\n",
        "  print('Não é par !')\n",
        "\n",
        "verificacao (2)"
      ],
      "metadata": {
        "colab": {
          "base_uri": "https://localhost:8080/"
        },
        "id": "wfgoYGWn1Vm4",
        "outputId": "34c6626b-7085-4655-8d03-217f21070f0b"
      },
      "execution_count": 51,
      "outputs": [
        {
          "output_type": "stream",
          "name": "stdout",
          "text": [
            "Não é par !\n"
          ]
        },
        {
          "output_type": "execute_result",
          "data": {
            "text/plain": [
              "True"
            ]
          },
          "metadata": {},
          "execution_count": 51
        }
      ]
    },
    {
      "cell_type": "code",
      "source": [
        "# 4: Crie um conjunto chamado \"frutas\" com as seguintes frutas:\n",
        "# maçã, banana, laranja, pêra e abacaxi. Em seguida, imprima o\n",
        "# número de elementos no conjunto.\n",
        "\n",
        "conjunto = {'maçã', 'banana', 'laranja', 'pêra', 'abacaxi'}\n",
        "\n",
        "n = len(conjunto)\n",
        "\n",
        "print(n)"
      ],
      "metadata": {
        "colab": {
          "base_uri": "https://localhost:8080/"
        },
        "id": "_EO3Vo9JSFY8",
        "outputId": "f2102822-5194-4d2f-81d1-cecf7a8a0c89"
      },
      "execution_count": 6,
      "outputs": [
        {
          "output_type": "stream",
          "name": "stdout",
          "text": [
            "5\n"
          ]
        }
      ]
    },
    {
      "cell_type": "code",
      "source": [
        "# 5: Crie dois conjuntos, \"conjunto1\" e \"conjunto2\",\n",
        "# com alguns números inteiros.\n",
        "# Imprima a união desses dois conjuntos\n",
        "\n",
        "conjunto1 = {1, 2, 3, 4, 5}\n",
        "conjunto2 = {6, 7, 8, 9, 10}\n",
        "\n",
        "a = conjunto1 | conjunto2\n",
        "\n",
        "print(a)\n"
      ],
      "metadata": {
        "colab": {
          "base_uri": "https://localhost:8080/"
        },
        "id": "oLzaA2kBSnRA",
        "outputId": "4df784a3-dff3-43e1-8fb6-6c5875118155"
      },
      "execution_count": 5,
      "outputs": [
        {
          "output_type": "stream",
          "name": "stdout",
          "text": [
            "{1, 2, 3, 4, 5, 6, 7, 8, 9, 10}\n"
          ]
        }
      ]
    },
    {
      "cell_type": "code",
      "source": [
        "# 6: Dado o conjunto \"cores\" com cores diferentes, remova a cor\n",
        "# \"vermelho\" do conjunto.\n",
        "\n",
        "cores = {\"azul\", \"amarelo\", \"verde\", \"marrom\", \"vermelho\"}\n",
        "\n",
        "remocao = cores.remove(\"vermelho\")\n",
        "\n",
        "print(cores)"
      ],
      "metadata": {
        "colab": {
          "base_uri": "https://localhost:8080/"
        },
        "id": "xzpdj7yhSozU",
        "outputId": "379f0dcd-c615-4c86-c759-9e68e751e198"
      },
      "execution_count": 20,
      "outputs": [
        {
          "output_type": "stream",
          "name": "stdout",
          "text": [
            "{'amarelo', 'marrom', 'azul', 'verde'}\n"
          ]
        }
      ]
    },
    {
      "cell_type": "code",
      "source": [
        "# 7: Crie um conjunto chamado \"numeros\" com os números de 1 a 10.\n",
        "# Em seguida, crie um novo conjunto chamado \"pares\"\n",
        "# contendo os números pares do conjunto \"numeros\".\n",
        "\n",
        "numeros = {1, 2, 3, 4, 5, 6, 7, 8, 9, 10}\n",
        "\n",
        "pares = set()\n",
        "\n",
        "for i in numeros:\n",
        "    if i % 2 == 0:\n",
        "        pares.add(i)\n",
        "\n",
        "print(pares)\n"
      ],
      "metadata": {
        "colab": {
          "base_uri": "https://localhost:8080/"
        },
        "id": "a23Ufky6SspT",
        "outputId": "0f6266a9-d448-4029-e765-795fb703613f"
      },
      "execution_count": 25,
      "outputs": [
        {
          "output_type": "stream",
          "name": "stdout",
          "text": [
            "{2, 4, 6, 8, 10}\n"
          ]
        }
      ]
    },
    {
      "cell_type": "code",
      "source": [
        "# 8: Verifique se o conjunto \"alunos_aprovados\" contém todos os\n",
        "# alunos do conjunto \"todos_alunos\". Os conjuntos devem ser\n",
        "# definidos com nomes apropriados.\n",
        "\n",
        "alunos_geral = {'Pedro', 'Isac', 'Isis', 'Maria'}\n",
        "\n",
        "alunos_aprovados = {'Pedro', 'Isis'}\n",
        "\n",
        "print(alunos_aprovados.intersection(alunos_geral))\n"
      ],
      "metadata": {
        "colab": {
          "base_uri": "https://localhost:8080/"
        },
        "id": "BkrQOSrmSxnr",
        "outputId": "82947767-6e77-4cf4-b176-f949f55677fd"
      },
      "execution_count": 26,
      "outputs": [
        {
          "output_type": "stream",
          "name": "stdout",
          "text": [
            "{'Pedro', 'Isis'}\n"
          ]
        }
      ]
    },
    {
      "cell_type": "code",
      "source": [
        "texto = 'Python é uma linguagem de programação. Python é simples. Python é organizado. Python é uma excelente linguagem.'\n",
        "print(texto.count('é'))\n",
        "print(texto.find('Python', 25,50))\n",
        "print(texto.rfind('lingua'))\n",
        "print(texto.index('é'))\n",
        "print(texto.rindex('é'))\n",
        "\n",
        "\n",
        "texto = 'Olá Mundo!'\n",
        "print(texto)\n",
        "texto_centro = texto.center(150)\n",
        "texto_centro_2 = texto.center(20,'.')\n",
        "texto_esquerda = texto.ljust(10)\n",
        "texto_direita = texto.rjust(150)\n",
        "print(texto_direita)\n",
        "print(f'**{texto_esquerda}*{texto_direita}**')\n",
        "\n"
      ],
      "metadata": {
        "colab": {
          "base_uri": "https://localhost:8080/"
        },
        "id": "X3Y3LMuQbjfC",
        "outputId": "47042df0-8ef0-4902-fd9c-407ac441ea7d"
      },
      "execution_count": 34,
      "outputs": [
        {
          "output_type": "stream",
          "name": "stdout",
          "text": [
            "4\n",
            "39\n",
            "101\n",
            "7\n",
            "85\n",
            "Olá Mundo!\n",
            "                                                                                                                                            Olá Mundo!\n",
            "**Olá Mundo!*                                                                                                                                            Olá Mundo!**\n"
          ]
        }
      ]
    },
    {
      "cell_type": "code",
      "source": [
        "# Exercício 1: Escreva um programa que verifique se a palavra \"python\"\n",
        "# está presente na string \"Estou aprendendo Python\".\n",
        "\n",
        "palavra = 'python'\n",
        "\n",
        "frase = 'Estou aprendendo python'\n",
        "\n",
        "verificacao = palavra in frase\n",
        "\n",
        "print(verificacao)\n",
        "\n"
      ],
      "metadata": {
        "colab": {
          "base_uri": "https://localhost:8080/"
        },
        "id": "l72RLnGobDgr",
        "outputId": "6bd9dfd5-e001-4791-d5ff-c95bdfbfa274"
      },
      "execution_count": 41,
      "outputs": [
        {
          "output_type": "stream",
          "name": "stdout",
          "text": [
            "True\n"
          ]
        }
      ]
    },
    {
      "cell_type": "code",
      "source": [
        "# exercício 2: Escreva um programa que peça ao usuário para digitar\n",
        "# seu nome e verifique se o nome começa com a letra \"A\" (maiúscula ou minúscula).\n",
        "\n",
        "nome = input(\"Insira seu primeiro nome : \")\n",
        "\n",
        "# Verifica se o primeiro caractere do nome é \"A\" ou \"a\"\n",
        "if nome.lower().startswith('a'):\n",
        "    print(\"O nome começa com a letra 'A'.\")\n",
        "else:\n",
        "    print(\"O nome não começa com a letra 'A'.\")\n",
        "\n",
        "#startswith ; pesquisa se a string começa com o valor procurado\n",
        "#endswith ; pesquisa se a string termina com o valor procurado\n",
        "\n"
      ],
      "metadata": {
        "colab": {
          "base_uri": "https://localhost:8080/"
        },
        "id": "2cmjLpJViV8K",
        "outputId": "e2500729-d96d-4674-fc63-5974dac0a7b3"
      },
      "execution_count": 78,
      "outputs": [
        {
          "output_type": "stream",
          "name": "stdout",
          "text": [
            "Insira seu primeiro nome : aline\n",
            "O nome começa com a letra 'A'.\n"
          ]
        }
      ]
    },
    {
      "cell_type": "code",
      "source": [
        "# Exercício 3: Escreva um programa que peça ao usuário para digitar uma\n",
        "# senha e verifique se a senha contém pelo menos 8 caracteres.\n",
        "\n",
        "senha = input(\"Digite aqui a sua senha\")\n",
        "\n",
        "numeros_char = len(senha)\n",
        "\n",
        "if numeros_char == 8:\n",
        "  print('A senha possui pelo menos 8 caracteres')\n",
        "\n",
        "else:\n",
        "  print('A senha NÃO possui 8 caracteres')\n"
      ],
      "metadata": {
        "colab": {
          "base_uri": "https://localhost:8080/"
        },
        "id": "Nm1fu5ueiYAR",
        "outputId": "51255882-6a08-47e5-b28c-13e31a65d20c"
      },
      "execution_count": 65,
      "outputs": [
        {
          "output_type": "stream",
          "name": "stdout",
          "text": [
            "Digite aqui a sua senha5\n",
            "A senha NÃO possui 8 caracteres\n"
          ]
        }
      ]
    },
    {
      "cell_type": "code",
      "source": [
        "# Exercício 4: Escreva um programa que peça ao usuário para digitar\n",
        "# um número e verifique se o número é uma representação numérica (não contém\n",
        "# letras ou símbolos).\n",
        "\n",
        "numero = input(\"Digite aqui um numero :\")\n",
        "\n",
        "confirmacao = numero.isnumeric()\n",
        "\n",
        "if confirmacao is True:\n",
        "  print (\"É um numero !\")\n",
        "\n",
        "else:\n",
        "  print (\"Não é um numero \")\n"
      ],
      "metadata": {
        "colab": {
          "base_uri": "https://localhost:8080/"
        },
        "id": "Sx0ndZsiia7Z",
        "outputId": "838c93f3-75d0-48bb-913d-400dc709cc6c"
      },
      "execution_count": 74,
      "outputs": [
        {
          "output_type": "stream",
          "name": "stdout",
          "text": [
            "Digite aqui um numero :a\n",
            "Não é um numero \n"
          ]
        }
      ]
    },
    {
      "cell_type": "code",
      "source": [
        "# Exercício 5: Escreva um programa que peça ao usuário para digitar uma frase\n",
        "# e conte quantas vezes a letra \"a\" (maiúscula ou minúscula) aparece na frase.\n",
        "\n",
        "frase = input ('Digite aqui uma fraase : ')\n",
        "\n",
        "x = frase.count('a')\n",
        "\n",
        "print(f'A frase \"{frase}\" tem {x} letras \"a\".')"
      ],
      "metadata": {
        "colab": {
          "base_uri": "https://localhost:8080/"
        },
        "id": "s9sULkQDieMp",
        "outputId": "4ef4d22e-0914-40ef-beb7-82703bcb7c7a"
      },
      "execution_count": 76,
      "outputs": [
        {
          "output_type": "stream",
          "name": "stdout",
          "text": [
            "Digite aqui uma fraase : ola tudo bem?\n",
            "A frase \"ola tudo bem?\" tem 1 letras \"a\".\n"
          ]
        }
      ]
    },
    {
      "cell_type": "code",
      "source": [
        "#Exercício 1: Remova o último elemento de uma lista e imprima a lista resultante.\n",
        "\n",
        "lista = [1, 2, 3, 4, 5]\n",
        "\n",
        "lista1 = lista.pop(4)\n",
        "\n",
        "print(lista1)\n",
        "print(lista)"
      ],
      "metadata": {
        "colab": {
          "base_uri": "https://localhost:8080/"
        },
        "id": "Zy1IBfFL08SX",
        "outputId": "45bd425b-d259-49bf-a22f-fb0e38125d4c"
      },
      "execution_count": 81,
      "outputs": [
        {
          "output_type": "stream",
          "name": "stdout",
          "text": [
            "5\n",
            "[1, 2, 3, 4]\n"
          ]
        }
      ]
    },
    {
      "cell_type": "code",
      "source": [
        "#Exercício 2: Remova o elemento de índice 2 de uma lista e imprima a lista resultante\n",
        "\n",
        "lista = [10, 20, 30, 40, 50]\n",
        "\n",
        "lista1 = lista.pop(2)\n",
        "\n",
        "print(lista1)\n",
        "print(lista)"
      ],
      "metadata": {
        "colab": {
          "base_uri": "https://localhost:8080/"
        },
        "id": "Fy3yi9991TBu",
        "outputId": "d484f25a-b8e3-415d-f540-681fdaf0129a"
      },
      "execution_count": 82,
      "outputs": [
        {
          "output_type": "stream",
          "name": "stdout",
          "text": [
            "30\n",
            "[10, 20, 40, 50]\n"
          ]
        }
      ]
    },
    {
      "cell_type": "code",
      "source": [
        "#Exercício 3: Crie uma pilha usando uma lista e implemente as operações  pop().\n",
        "\n",
        "lista = [1, 2, 3, 4, 5]\n",
        "\n",
        "remocao = lista.pop(3)\n",
        "\n",
        "print(remocao)"
      ],
      "metadata": {
        "colab": {
          "base_uri": "https://localhost:8080/"
        },
        "id": "wYZgTd6h1fhP",
        "outputId": "d156dee6-8b3a-4e7c-b1ef-4fad2c966b50"
      },
      "execution_count": 100,
      "outputs": [
        {
          "output_type": "stream",
          "name": "stdout",
          "text": [
            "4\n"
          ]
        }
      ]
    },
    {
      "cell_type": "code",
      "source": [
        "#Exercício 4: Remova o primeiro elemento de uma lista e o último elemento usando pop() e imprima a lista resultante.\n",
        "\n",
        "lista = [1, 2, 3, 4, 5]\n",
        "\n",
        "lista1 = lista.pop(0)\n",
        "lista1 = lista.pop(-1)\n",
        "\n",
        "print(lista1)\n",
        "print(lista)\n"
      ],
      "metadata": {
        "colab": {
          "base_uri": "https://localhost:8080/"
        },
        "id": "F1CKud4A1wR9",
        "outputId": "1f369eb4-3354-45f9-858d-bd649b74e554"
      },
      "execution_count": 106,
      "outputs": [
        {
          "output_type": "stream",
          "name": "stdout",
          "text": [
            "5\n",
            "[2, 3, 4]\n"
          ]
        }
      ]
    },
    {
      "cell_type": "code",
      "source": [
        "#Exercício 5: Acesse os três primeiros caracteres de uma string.\n",
        "\n",
        "palavra = input('Digite aqui uma palavra : ')\n",
        "\n",
        "resposta = palavra[:3]\n",
        "\n",
        "print(resposta)"
      ],
      "metadata": {
        "colab": {
          "base_uri": "https://localhost:8080/"
        },
        "id": "1T2DiWxk4YkG",
        "outputId": "2b25ee2f-dbea-4d37-a57f-23cad59bf105"
      },
      "execution_count": 108,
      "outputs": [
        {
          "output_type": "stream",
          "name": "stdout",
          "text": [
            "Digite aqui uma palavra : Erik[\n",
            "Eri\n"
          ]
        }
      ]
    },
    {
      "cell_type": "markdown",
      "source": [
        "<Desafio: Calculadora de Média >"
      ],
      "metadata": {
        "id": "0FjvRond41Ys"
      }
    },
    {
      "cell_type": "code",
      "source": [
        "nota1 = float(input('Digite aqui a primeira nota: '))\n",
        "nota2 = float(input('Digite aqui a segunda nota: '))\n",
        "nota3 = float(input('Digite aqui a terceira nota: '))\n",
        "\n",
        "media = (nota1 + nota2 + nota3)/3\n",
        "\n",
        "print(media)\n",
        "\n",
        "if media >= 7:\n",
        "  print('Parabéns ! Você foi aprovado !!')\n",
        "elif media >= 5 and media <= 7:\n",
        "  print('Atenção ! Você esta de recuperação !!')\n",
        "else:\n",
        "  print('Infelizmente você foi reprovado !!')\n"
      ],
      "metadata": {
        "colab": {
          "base_uri": "https://localhost:8080/"
        },
        "id": "hpblzx804ypl",
        "outputId": "db12b76b-0c2c-4e74-85d8-f89c9321a123"
      },
      "execution_count": 116,
      "outputs": [
        {
          "output_type": "stream",
          "name": "stdout",
          "text": [
            "Digite aqui a primeira nota: 5\n",
            "Digite aqui a segunda nota: 5\n",
            "Digite aqui a terceira nota: 6\n",
            "5.333333333333333\n",
            "Atenção ! Você esta de recuperação !!\n"
          ]
        }
      ]
    },
    {
      "cell_type": "code",
      "source": [
        "numero_de_notas = int(input('Quantas notas serão utilizadas para media :'))\n",
        "\n",
        "notas = []\n",
        "\n",
        "for i in range(numero_de_notas):\n",
        "  nota = float(input('Digite aqui sua nota :'))\n",
        "  notas.append(nota)\n",
        "\n",
        "soma = sum(notas)\n",
        "\n",
        "media = soma/numero_de_notas\n",
        "\n",
        "print(media)\n",
        "\n",
        "if media >= 7:\n",
        "  print('Parabéns ! Você foi aprovado !!')\n",
        "elif media >= 5 and media <= 7:\n",
        "  print('Atenção ! Você esta de recuperação !!')\n",
        "else:\n",
        "  print('Infelizmente você foi reprovado !!')\n"
      ],
      "metadata": {
        "colab": {
          "base_uri": "https://localhost:8080/"
        },
        "id": "UaskDaFd61qF",
        "outputId": "23c22411-9256-4cee-a65f-bde8223d0e98"
      },
      "execution_count": 136,
      "outputs": [
        {
          "output_type": "stream",
          "name": "stdout",
          "text": [
            "Quantas notas serão utilizadas para media :5\n",
            "Digite aqui sua nota :10\n",
            "Digite aqui sua nota :5\n",
            "Digite aqui sua nota :9\n",
            "Digite aqui sua nota :5\n",
            "Digite aqui sua nota :1\n",
            "6.0\n",
            "Atenção ! Você esta de recuperação !!\n"
          ]
        }
      ]
    }
  ]
}